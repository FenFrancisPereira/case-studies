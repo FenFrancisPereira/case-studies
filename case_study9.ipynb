{
 "cells": [
  {
   "cell_type": "markdown",
   "id": "6223e55b",
   "metadata": {},
   "source": [
    "# Importing the necessary libraries"
   ]
  },
  {
   "cell_type": "code",
   "execution_count": 1,
   "id": "d8438bec",
   "metadata": {},
   "outputs": [],
   "source": [
    "import pandas as pd\n",
    "import numpy as np\n",
    "import matplotlib.pyplot as plt\n",
    "import seaborn as sns\n",
    "import math"
   ]
  },
  {
   "cell_type": "markdown",
   "id": "b305dd04",
   "metadata": {},
   "source": [
    "# Reading the dataset "
   ]
  },
  {
   "cell_type": "code",
   "execution_count": 2,
   "id": "608545a2",
   "metadata": {},
   "outputs": [],
   "source": [
    "df = pd.read_csv(r'C:\\Users\\perei\\OneDrive\\Desktop\\Datasets-20211109\\Wine.csv')"
   ]
  },
  {
   "cell_type": "code",
   "execution_count": 3,
   "id": "350bf6ea",
   "metadata": {},
   "outputs": [
    {
     "data": {
      "text/html": [
       "<div>\n",
       "<style scoped>\n",
       "    .dataframe tbody tr th:only-of-type {\n",
       "        vertical-align: middle;\n",
       "    }\n",
       "\n",
       "    .dataframe tbody tr th {\n",
       "        vertical-align: top;\n",
       "    }\n",
       "\n",
       "    .dataframe thead th {\n",
       "        text-align: right;\n",
       "    }\n",
       "</style>\n",
       "<table border=\"1\" class=\"dataframe\">\n",
       "  <thead>\n",
       "    <tr style=\"text-align: right;\">\n",
       "      <th></th>\n",
       "      <th>Alcohol</th>\n",
       "      <th>Malic_Acid</th>\n",
       "      <th>Ash</th>\n",
       "      <th>Ash_Alcanity</th>\n",
       "      <th>Magnesium</th>\n",
       "      <th>Total_Phenols</th>\n",
       "      <th>Flavanoids</th>\n",
       "      <th>Nonflavanoid_Phenols</th>\n",
       "      <th>Proanthocyanins</th>\n",
       "      <th>Color_Intensity</th>\n",
       "      <th>Hue</th>\n",
       "      <th>OD280</th>\n",
       "      <th>Proline</th>\n",
       "    </tr>\n",
       "  </thead>\n",
       "  <tbody>\n",
       "    <tr>\n",
       "      <th>0</th>\n",
       "      <td>14.23</td>\n",
       "      <td>1.71</td>\n",
       "      <td>2.43</td>\n",
       "      <td>15.6</td>\n",
       "      <td>127</td>\n",
       "      <td>2.80</td>\n",
       "      <td>3.06</td>\n",
       "      <td>0.28</td>\n",
       "      <td>2.29</td>\n",
       "      <td>5.64</td>\n",
       "      <td>1.04</td>\n",
       "      <td>3.92</td>\n",
       "      <td>1065</td>\n",
       "    </tr>\n",
       "    <tr>\n",
       "      <th>1</th>\n",
       "      <td>13.20</td>\n",
       "      <td>1.78</td>\n",
       "      <td>2.14</td>\n",
       "      <td>11.2</td>\n",
       "      <td>100</td>\n",
       "      <td>2.65</td>\n",
       "      <td>2.76</td>\n",
       "      <td>0.26</td>\n",
       "      <td>1.28</td>\n",
       "      <td>4.38</td>\n",
       "      <td>1.05</td>\n",
       "      <td>3.40</td>\n",
       "      <td>1050</td>\n",
       "    </tr>\n",
       "    <tr>\n",
       "      <th>2</th>\n",
       "      <td>13.16</td>\n",
       "      <td>2.36</td>\n",
       "      <td>2.67</td>\n",
       "      <td>18.6</td>\n",
       "      <td>101</td>\n",
       "      <td>2.80</td>\n",
       "      <td>3.24</td>\n",
       "      <td>0.30</td>\n",
       "      <td>2.81</td>\n",
       "      <td>5.68</td>\n",
       "      <td>1.03</td>\n",
       "      <td>3.17</td>\n",
       "      <td>1185</td>\n",
       "    </tr>\n",
       "    <tr>\n",
       "      <th>3</th>\n",
       "      <td>14.37</td>\n",
       "      <td>1.95</td>\n",
       "      <td>2.50</td>\n",
       "      <td>16.8</td>\n",
       "      <td>113</td>\n",
       "      <td>3.85</td>\n",
       "      <td>3.49</td>\n",
       "      <td>0.24</td>\n",
       "      <td>2.18</td>\n",
       "      <td>7.80</td>\n",
       "      <td>0.86</td>\n",
       "      <td>3.45</td>\n",
       "      <td>1480</td>\n",
       "    </tr>\n",
       "    <tr>\n",
       "      <th>4</th>\n",
       "      <td>13.24</td>\n",
       "      <td>2.59</td>\n",
       "      <td>2.87</td>\n",
       "      <td>21.0</td>\n",
       "      <td>118</td>\n",
       "      <td>2.80</td>\n",
       "      <td>2.69</td>\n",
       "      <td>0.39</td>\n",
       "      <td>1.82</td>\n",
       "      <td>4.32</td>\n",
       "      <td>1.04</td>\n",
       "      <td>2.93</td>\n",
       "      <td>735</td>\n",
       "    </tr>\n",
       "  </tbody>\n",
       "</table>\n",
       "</div>"
      ],
      "text/plain": [
       "   Alcohol  Malic_Acid   Ash  Ash_Alcanity  Magnesium  Total_Phenols  \\\n",
       "0    14.23        1.71  2.43          15.6        127           2.80   \n",
       "1    13.20        1.78  2.14          11.2        100           2.65   \n",
       "2    13.16        2.36  2.67          18.6        101           2.80   \n",
       "3    14.37        1.95  2.50          16.8        113           3.85   \n",
       "4    13.24        2.59  2.87          21.0        118           2.80   \n",
       "\n",
       "   Flavanoids  Nonflavanoid_Phenols  Proanthocyanins  Color_Intensity   Hue  \\\n",
       "0        3.06                  0.28             2.29             5.64  1.04   \n",
       "1        2.76                  0.26             1.28             4.38  1.05   \n",
       "2        3.24                  0.30             2.81             5.68  1.03   \n",
       "3        3.49                  0.24             2.18             7.80  0.86   \n",
       "4        2.69                  0.39             1.82             4.32  1.04   \n",
       "\n",
       "   OD280  Proline  \n",
       "0   3.92     1065  \n",
       "1   3.40     1050  \n",
       "2   3.17     1185  \n",
       "3   3.45     1480  \n",
       "4   2.93      735  "
      ]
     },
     "execution_count": 3,
     "metadata": {},
     "output_type": "execute_result"
    }
   ],
   "source": [
    "df.head()#displaying the first 4 rows of the dataser"
   ]
  },
  {
   "cell_type": "code",
   "execution_count": 4,
   "id": "186891d0",
   "metadata": {},
   "outputs": [
    {
     "data": {
      "text/plain": [
       "(178, 13)"
      ]
     },
     "execution_count": 4,
     "metadata": {},
     "output_type": "execute_result"
    }
   ],
   "source": [
    "df.shape # obtaing the the number of rows and columns in the dataset "
   ]
  },
  {
   "cell_type": "code",
   "execution_count": 5,
   "id": "b1c1d010",
   "metadata": {},
   "outputs": [
    {
     "data": {
      "text/plain": [
       "Alcohol                 0\n",
       "Malic_Acid              0\n",
       "Ash                     0\n",
       "Ash_Alcanity            0\n",
       "Magnesium               0\n",
       "Total_Phenols           0\n",
       "Flavanoids              0\n",
       "Nonflavanoid_Phenols    0\n",
       "Proanthocyanins         0\n",
       "Color_Intensity         0\n",
       "Hue                     0\n",
       "OD280                   0\n",
       "Proline                 0\n",
       "dtype: int64"
      ]
     },
     "execution_count": 5,
     "metadata": {},
     "output_type": "execute_result"
    }
   ],
   "source": [
    "df.isnull().sum() # checking for null values"
   ]
  },
  {
   "cell_type": "code",
   "execution_count": 6,
   "id": "d6d38984",
   "metadata": {},
   "outputs": [
    {
     "data": {
      "text/html": [
       "<div>\n",
       "<style scoped>\n",
       "    .dataframe tbody tr th:only-of-type {\n",
       "        vertical-align: middle;\n",
       "    }\n",
       "\n",
       "    .dataframe tbody tr th {\n",
       "        vertical-align: top;\n",
       "    }\n",
       "\n",
       "    .dataframe thead th {\n",
       "        text-align: right;\n",
       "    }\n",
       "</style>\n",
       "<table border=\"1\" class=\"dataframe\">\n",
       "  <thead>\n",
       "    <tr style=\"text-align: right;\">\n",
       "      <th></th>\n",
       "      <th>Alcohol</th>\n",
       "      <th>Malic_Acid</th>\n",
       "      <th>Ash</th>\n",
       "      <th>Ash_Alcanity</th>\n",
       "      <th>Magnesium</th>\n",
       "      <th>Total_Phenols</th>\n",
       "      <th>Flavanoids</th>\n",
       "      <th>Nonflavanoid_Phenols</th>\n",
       "      <th>Proanthocyanins</th>\n",
       "      <th>Color_Intensity</th>\n",
       "      <th>Hue</th>\n",
       "      <th>OD280</th>\n",
       "      <th>Proline</th>\n",
       "    </tr>\n",
       "  </thead>\n",
       "  <tbody>\n",
       "    <tr>\n",
       "      <th>count</th>\n",
       "      <td>178.000000</td>\n",
       "      <td>178.000000</td>\n",
       "      <td>178.000000</td>\n",
       "      <td>178.000000</td>\n",
       "      <td>178.000000</td>\n",
       "      <td>178.000000</td>\n",
       "      <td>178.000000</td>\n",
       "      <td>178.000000</td>\n",
       "      <td>178.000000</td>\n",
       "      <td>178.000000</td>\n",
       "      <td>178.000000</td>\n",
       "      <td>178.000000</td>\n",
       "      <td>178.000000</td>\n",
       "    </tr>\n",
       "    <tr>\n",
       "      <th>mean</th>\n",
       "      <td>13.000618</td>\n",
       "      <td>2.336348</td>\n",
       "      <td>2.366517</td>\n",
       "      <td>19.494944</td>\n",
       "      <td>99.741573</td>\n",
       "      <td>2.295112</td>\n",
       "      <td>2.029270</td>\n",
       "      <td>0.361854</td>\n",
       "      <td>1.590899</td>\n",
       "      <td>5.058090</td>\n",
       "      <td>0.957449</td>\n",
       "      <td>2.611685</td>\n",
       "      <td>746.893258</td>\n",
       "    </tr>\n",
       "    <tr>\n",
       "      <th>std</th>\n",
       "      <td>0.811827</td>\n",
       "      <td>1.117146</td>\n",
       "      <td>0.274344</td>\n",
       "      <td>3.339564</td>\n",
       "      <td>14.282484</td>\n",
       "      <td>0.625851</td>\n",
       "      <td>0.998859</td>\n",
       "      <td>0.124453</td>\n",
       "      <td>0.572359</td>\n",
       "      <td>2.318286</td>\n",
       "      <td>0.228572</td>\n",
       "      <td>0.709990</td>\n",
       "      <td>314.907474</td>\n",
       "    </tr>\n",
       "    <tr>\n",
       "      <th>min</th>\n",
       "      <td>11.030000</td>\n",
       "      <td>0.740000</td>\n",
       "      <td>1.360000</td>\n",
       "      <td>10.600000</td>\n",
       "      <td>70.000000</td>\n",
       "      <td>0.980000</td>\n",
       "      <td>0.340000</td>\n",
       "      <td>0.130000</td>\n",
       "      <td>0.410000</td>\n",
       "      <td>1.280000</td>\n",
       "      <td>0.480000</td>\n",
       "      <td>1.270000</td>\n",
       "      <td>278.000000</td>\n",
       "    </tr>\n",
       "    <tr>\n",
       "      <th>25%</th>\n",
       "      <td>12.362500</td>\n",
       "      <td>1.602500</td>\n",
       "      <td>2.210000</td>\n",
       "      <td>17.200000</td>\n",
       "      <td>88.000000</td>\n",
       "      <td>1.742500</td>\n",
       "      <td>1.205000</td>\n",
       "      <td>0.270000</td>\n",
       "      <td>1.250000</td>\n",
       "      <td>3.220000</td>\n",
       "      <td>0.782500</td>\n",
       "      <td>1.937500</td>\n",
       "      <td>500.500000</td>\n",
       "    </tr>\n",
       "    <tr>\n",
       "      <th>50%</th>\n",
       "      <td>13.050000</td>\n",
       "      <td>1.865000</td>\n",
       "      <td>2.360000</td>\n",
       "      <td>19.500000</td>\n",
       "      <td>98.000000</td>\n",
       "      <td>2.355000</td>\n",
       "      <td>2.135000</td>\n",
       "      <td>0.340000</td>\n",
       "      <td>1.555000</td>\n",
       "      <td>4.690000</td>\n",
       "      <td>0.965000</td>\n",
       "      <td>2.780000</td>\n",
       "      <td>673.500000</td>\n",
       "    </tr>\n",
       "    <tr>\n",
       "      <th>75%</th>\n",
       "      <td>13.677500</td>\n",
       "      <td>3.082500</td>\n",
       "      <td>2.557500</td>\n",
       "      <td>21.500000</td>\n",
       "      <td>107.000000</td>\n",
       "      <td>2.800000</td>\n",
       "      <td>2.875000</td>\n",
       "      <td>0.437500</td>\n",
       "      <td>1.950000</td>\n",
       "      <td>6.200000</td>\n",
       "      <td>1.120000</td>\n",
       "      <td>3.170000</td>\n",
       "      <td>985.000000</td>\n",
       "    </tr>\n",
       "    <tr>\n",
       "      <th>max</th>\n",
       "      <td>14.830000</td>\n",
       "      <td>5.800000</td>\n",
       "      <td>3.230000</td>\n",
       "      <td>30.000000</td>\n",
       "      <td>162.000000</td>\n",
       "      <td>3.880000</td>\n",
       "      <td>5.080000</td>\n",
       "      <td>0.660000</td>\n",
       "      <td>3.580000</td>\n",
       "      <td>13.000000</td>\n",
       "      <td>1.710000</td>\n",
       "      <td>4.000000</td>\n",
       "      <td>1680.000000</td>\n",
       "    </tr>\n",
       "  </tbody>\n",
       "</table>\n",
       "</div>"
      ],
      "text/plain": [
       "          Alcohol  Malic_Acid         Ash  Ash_Alcanity   Magnesium  \\\n",
       "count  178.000000  178.000000  178.000000    178.000000  178.000000   \n",
       "mean    13.000618    2.336348    2.366517     19.494944   99.741573   \n",
       "std      0.811827    1.117146    0.274344      3.339564   14.282484   \n",
       "min     11.030000    0.740000    1.360000     10.600000   70.000000   \n",
       "25%     12.362500    1.602500    2.210000     17.200000   88.000000   \n",
       "50%     13.050000    1.865000    2.360000     19.500000   98.000000   \n",
       "75%     13.677500    3.082500    2.557500     21.500000  107.000000   \n",
       "max     14.830000    5.800000    3.230000     30.000000  162.000000   \n",
       "\n",
       "       Total_Phenols  Flavanoids  Nonflavanoid_Phenols  Proanthocyanins  \\\n",
       "count     178.000000  178.000000            178.000000       178.000000   \n",
       "mean        2.295112    2.029270              0.361854         1.590899   \n",
       "std         0.625851    0.998859              0.124453         0.572359   \n",
       "min         0.980000    0.340000              0.130000         0.410000   \n",
       "25%         1.742500    1.205000              0.270000         1.250000   \n",
       "50%         2.355000    2.135000              0.340000         1.555000   \n",
       "75%         2.800000    2.875000              0.437500         1.950000   \n",
       "max         3.880000    5.080000              0.660000         3.580000   \n",
       "\n",
       "       Color_Intensity         Hue       OD280      Proline  \n",
       "count       178.000000  178.000000  178.000000   178.000000  \n",
       "mean          5.058090    0.957449    2.611685   746.893258  \n",
       "std           2.318286    0.228572    0.709990   314.907474  \n",
       "min           1.280000    0.480000    1.270000   278.000000  \n",
       "25%           3.220000    0.782500    1.937500   500.500000  \n",
       "50%           4.690000    0.965000    2.780000   673.500000  \n",
       "75%           6.200000    1.120000    3.170000   985.000000  \n",
       "max          13.000000    1.710000    4.000000  1680.000000  "
      ]
     },
     "execution_count": 6,
     "metadata": {},
     "output_type": "execute_result"
    }
   ],
   "source": [
    "df.describe() # displaying the basic statistics of the dataset"
   ]
  },
  {
   "cell_type": "markdown",
   "id": "41662ed6",
   "metadata": {},
   "source": [
    "Now we need check for any outliers and handle if there any"
   ]
  },
  {
   "cell_type": "code",
   "execution_count": 7,
   "id": "d16f244e",
   "metadata": {},
   "outputs": [
    {
     "name": "stderr",
     "output_type": "stream",
     "text": [
      "C:\\Users\\perei\\anaconda3\\envs\\new1\\lib\\site-packages\\seaborn\\_decorators.py:36: FutureWarning: Pass the following variable as a keyword arg: x. From version 0.12, the only valid positional argument will be `data`, and passing other arguments without an explicit keyword will result in an error or misinterpretation.\n",
      "  warnings.warn(\n",
      "C:\\Users\\perei\\anaconda3\\envs\\new1\\lib\\site-packages\\seaborn\\_decorators.py:36: FutureWarning: Pass the following variable as a keyword arg: x. From version 0.12, the only valid positional argument will be `data`, and passing other arguments without an explicit keyword will result in an error or misinterpretation.\n",
      "  warnings.warn(\n",
      "C:\\Users\\perei\\anaconda3\\envs\\new1\\lib\\site-packages\\seaborn\\_decorators.py:36: FutureWarning: Pass the following variable as a keyword arg: x. From version 0.12, the only valid positional argument will be `data`, and passing other arguments without an explicit keyword will result in an error or misinterpretation.\n",
      "  warnings.warn(\n",
      "C:\\Users\\perei\\anaconda3\\envs\\new1\\lib\\site-packages\\seaborn\\_decorators.py:36: FutureWarning: Pass the following variable as a keyword arg: x. From version 0.12, the only valid positional argument will be `data`, and passing other arguments without an explicit keyword will result in an error or misinterpretation.\n",
      "  warnings.warn(\n",
      "C:\\Users\\perei\\anaconda3\\envs\\new1\\lib\\site-packages\\seaborn\\_decorators.py:36: FutureWarning: Pass the following variable as a keyword arg: x. From version 0.12, the only valid positional argument will be `data`, and passing other arguments without an explicit keyword will result in an error or misinterpretation.\n",
      "  warnings.warn(\n",
      "C:\\Users\\perei\\anaconda3\\envs\\new1\\lib\\site-packages\\seaborn\\_decorators.py:36: FutureWarning: Pass the following variable as a keyword arg: x. From version 0.12, the only valid positional argument will be `data`, and passing other arguments without an explicit keyword will result in an error or misinterpretation.\n",
      "  warnings.warn(\n",
      "C:\\Users\\perei\\anaconda3\\envs\\new1\\lib\\site-packages\\seaborn\\_decorators.py:36: FutureWarning: Pass the following variable as a keyword arg: x. From version 0.12, the only valid positional argument will be `data`, and passing other arguments without an explicit keyword will result in an error or misinterpretation.\n",
      "  warnings.warn(\n",
      "C:\\Users\\perei\\anaconda3\\envs\\new1\\lib\\site-packages\\seaborn\\_decorators.py:36: FutureWarning: Pass the following variable as a keyword arg: x. From version 0.12, the only valid positional argument will be `data`, and passing other arguments without an explicit keyword will result in an error or misinterpretation.\n",
      "  warnings.warn(\n",
      "C:\\Users\\perei\\anaconda3\\envs\\new1\\lib\\site-packages\\seaborn\\_decorators.py:36: FutureWarning: Pass the following variable as a keyword arg: x. From version 0.12, the only valid positional argument will be `data`, and passing other arguments without an explicit keyword will result in an error or misinterpretation.\n",
      "  warnings.warn(\n",
      "C:\\Users\\perei\\anaconda3\\envs\\new1\\lib\\site-packages\\seaborn\\_decorators.py:36: FutureWarning: Pass the following variable as a keyword arg: x. From version 0.12, the only valid positional argument will be `data`, and passing other arguments without an explicit keyword will result in an error or misinterpretation.\n",
      "  warnings.warn(\n",
      "C:\\Users\\perei\\anaconda3\\envs\\new1\\lib\\site-packages\\seaborn\\_decorators.py:36: FutureWarning: Pass the following variable as a keyword arg: x. From version 0.12, the only valid positional argument will be `data`, and passing other arguments without an explicit keyword will result in an error or misinterpretation.\n",
      "  warnings.warn(\n",
      "C:\\Users\\perei\\anaconda3\\envs\\new1\\lib\\site-packages\\seaborn\\_decorators.py:36: FutureWarning: Pass the following variable as a keyword arg: x. From version 0.12, the only valid positional argument will be `data`, and passing other arguments without an explicit keyword will result in an error or misinterpretation.\n",
      "  warnings.warn(\n",
      "C:\\Users\\perei\\anaconda3\\envs\\new1\\lib\\site-packages\\seaborn\\_decorators.py:36: FutureWarning: Pass the following variable as a keyword arg: x. From version 0.12, the only valid positional argument will be `data`, and passing other arguments without an explicit keyword will result in an error or misinterpretation.\n",
      "  warnings.warn(\n"
     ]
    },
    {
     "data": {
      "image/png": "[encoded data removed]",
      "text/plain": [
       "<Figure size 1080x864 with 13 Axes>"
      ]
     },
     "metadata": {
      "needs_background": "light"
     },
     "output_type": "display_data"
    }
   ],
   "source": [
    "plt.figure(figsize= (15,12))\n",
    "\n",
    "plt.subplot(4,4,1)\n",
    "sns.boxplot(df['Alcohol'])\n",
    "\n",
    "plt.subplot(4,4,2)\n",
    "sns.boxplot(df['Malic_Acid'])\n",
    "\n",
    "plt.subplot(4,4,3)\n",
    "sns.boxplot(df['Ash'])\n",
    "\n",
    "plt.subplot(4,4,4)\n",
    "sns.boxplot(df['Ash_Alcanity'])\n",
    "\n",
    "plt.subplot(4,4,5)\n",
    "sns.boxplot(df['Magnesium'])\n",
    "\n",
    "plt.subplot(4,4,6)\n",
    "sns.boxplot(df['Total_Phenols'])\n",
    "\n",
    "plt.subplot(4,4,7)\n",
    "sns.boxplot(df['Flavanoids'])\n",
    "\n",
    "plt.subplot(4,4,8)\n",
    "sns.boxplot(df['Nonflavanoid_Phenols'])\n",
    "\n",
    "plt.subplot(4,4,9)\n",
    "sns.boxplot(df['Proanthocyanins'])\n",
    "\n",
    "plt.subplot(4,4,10)\n",
    "sns.boxplot(df['Color_Intensity'])\n",
    "\n",
    "plt.subplot(4,4,11)\n",
    "sns.boxplot(df['Hue'])\n",
    "\n",
    "plt.subplot(4,4,12)\n",
    "sns.boxplot(df['OD280'])\n",
    "\n",
    "plt.subplot(4,4,13)\n",
    "sns.boxplot(df['Proline'])\n",
    "\n",
    "plt.tight_layout()\n",
    "plt.show()"
   ]
  },
  {
   "cell_type": "markdown",
   "id": "960500c2",
   "metadata": {},
   "source": [
    " so here we can see that various columns like malic acid,ash,ash_alcancity,magnesium,proanthocyanins,color_intensity, hue are having outliers.so we can handle them by using capping method where all outliers above upperlimit will be brought to value just below upper limit and allthe values below lower limit will be brought to a value which is just above the lower limit"
   ]
  },
  {
   "cell_type": "code",
   "execution_count": 8,
   "id": "2ea44564",
   "metadata": {},
   "outputs": [
    {
     "name": "stdout",
     "output_type": "stream",
     "text": [
      "Q1 =  1.6025000000000003\n",
      "Q3 =  3.0825\n",
      "IQR =  1.4799999999999998\n",
      "upper limit =  5.3025\n",
      "lower limit  =  -0.6174999999999995\n",
      " outliers =  [5.8, 5.51, 5.65]\n"
     ]
    }
   ],
   "source": [
    "q1 = np.percentile(df['Malic_Acid'],25)\n",
    "q3 = np.percentile(df['Malic_Acid'],75)\n",
    "\n",
    "IQR = q3-q1\n",
    "\n",
    "upper_lim=q3+IQR*1.5\n",
    "lower_lim=q1-IQR*1.5\n",
    "\n",
    "outliers = []\n",
    "for i in df['Malic_Acid']:\n",
    "    if (i>upper_lim)| (i<lower_lim):\n",
    "        outliers.append(i)\n",
    "print('Q1 = ',q1)\n",
    "print('Q3 = ',q3)\n",
    "print('IQR = ',IQR)\n",
    "print('upper limit = ',upper_lim)\n",
    "print('lower limit  = ',lower_lim)\n",
    "print(' outliers = ',outliers)"
   ]
  },
  {
   "cell_type": "code",
   "execution_count": 9,
   "id": "55220cf4",
   "metadata": {},
   "outputs": [],
   "source": [
    "df['Malic_Acid']=np.where(df['Malic_Acid']>upper_lim,math.floor(upper_lim),\n",
    "                          np.where(df['Malic_Acid']<lower_lim,math.ceil(lower_lim),df['Malic_Acid']))"
   ]
  },
  {
   "cell_type": "code",
   "execution_count": 10,
   "id": "691fc42d",
   "metadata": {},
   "outputs": [
    {
     "name": "stdout",
     "output_type": "stream",
     "text": [
      "Q1 =  2.21\n",
      "Q3 =  2.5575\n",
      "IQR =  0.34750000000000014\n",
      "upper limit =  3.0787500000000003\n",
      "lower limit  =  1.6887499999999998\n",
      " outliers =  [3.22, 1.36, 3.23]\n"
     ]
    }
   ],
   "source": [
    "q1 = np.percentile(df['Ash'],25)\n",
    "q3 = np.percentile(df['Ash'],75)\n",
    "\n",
    "IQR = q3-q1\n",
    "\n",
    "upper_lim=q3+IQR*1.5\n",
    "lower_lim=q1-IQR*1.5\n",
    "\n",
    "outliers = []\n",
    "for i in df['Ash']:\n",
    "    if (i>upper_lim)| (i<lower_lim):\n",
    "        outliers.append(i)\n",
    "print('Q1 = ',q1)\n",
    "print('Q3 = ',q3)\n",
    "print('IQR = ',IQR)\n",
    "print('upper limit = ',upper_lim)\n",
    "print('lower limit  = ',lower_lim)\n",
    "print(' outliers = ',outliers)"
   ]
  },
  {
   "cell_type": "code",
   "execution_count": 11,
   "id": "6d4c9f3d",
   "metadata": {},
   "outputs": [],
   "source": [
    "df['Ash']=np.where(df['Ash']>upper_lim,math.floor(upper_lim),\n",
    "                          np.where(df['Ash']<lower_lim,math.ceil(lower_lim),df['Ash']))"
   ]
  },
  {
   "cell_type": "code",
   "execution_count": 12,
   "id": "83a38163",
   "metadata": {},
   "outputs": [
    {
     "name": "stdout",
     "output_type": "stream",
     "text": [
      "Q1 =  17.2\n",
      "Q3 =  21.5\n",
      "IQR =  4.300000000000001\n",
      "upper limit =  27.950000000000003\n",
      "lower limit  =  10.749999999999998\n",
      " outliers =  [10.6, 30.0, 28.5, 28.5]\n"
     ]
    }
   ],
   "source": [
    "q1 = np.percentile(df['Ash_Alcanity'],25)\n",
    "q3 = np.percentile(df['Ash_Alcanity'],75)\n",
    "\n",
    "IQR = q3-q1\n",
    "\n",
    "upper_lim=q3+IQR*1.5\n",
    "lower_lim=q1-IQR*1.5\n",
    "\n",
    "outliers = []\n",
    "for i in df['Ash_Alcanity']:\n",
    "    if (i>upper_lim)| (i<lower_lim):\n",
    "        outliers.append(i)\n",
    "print('Q1 = ',q1)\n",
    "print('Q3 = ',q3)\n",
    "print('IQR = ',IQR)\n",
    "print('upper limit = ',upper_lim)\n",
    "print('lower limit  = ',lower_lim)\n",
    "print(' outliers = ',outliers)"
   ]
  },
  {
   "cell_type": "code",
   "execution_count": 13,
   "id": "8f6d1442",
   "metadata": {},
   "outputs": [],
   "source": [
    "df['Ash_Alcanity']=np.where(df['Ash_Alcanity']>upper_lim,math.floor(upper_lim),\n",
    "                          np.where(df['Ash_Alcanity']<lower_lim,math.ceil(lower_lim),df['Ash_Alcanity']))"
   ]
  },
  {
   "cell_type": "code",
   "execution_count": 14,
   "id": "73d3da68",
   "metadata": {},
   "outputs": [
    {
     "name": "stdout",
     "output_type": "stream",
     "text": [
      "Q1 =  88.0\n",
      "Q3 =  107.0\n",
      "IQR =  19.0\n",
      "upper limit =  135.5\n",
      "lower limit  =  59.5\n",
      " outliers =  [151, 139, 136, 162]\n"
     ]
    }
   ],
   "source": [
    "q1 = np.percentile(df['Magnesium'],25)\n",
    "q3 = np.percentile(df['Magnesium'],75)\n",
    "\n",
    "IQR = q3-q1\n",
    "\n",
    "upper_lim=q3+IQR*1.5\n",
    "lower_lim=q1-IQR*1.5\n",
    "\n",
    "outliers = []\n",
    "for i in df['Magnesium']:\n",
    "    if (i>upper_lim)| (i<lower_lim):\n",
    "        outliers.append(i)\n",
    "print('Q1 = ',q1)\n",
    "print('Q3 = ',q3)\n",
    "print('IQR = ',IQR)\n",
    "print('upper limit = ',upper_lim)\n",
    "print('lower limit  = ',lower_lim)\n",
    "print(' outliers = ',outliers)"
   ]
  },
  {
   "cell_type": "code",
   "execution_count": 15,
   "id": "9156b875",
   "metadata": {},
   "outputs": [],
   "source": [
    "df['Magnesium']=np.where(df['Magnesium']>upper_lim,math.floor(upper_lim),\n",
    "                          np.where(df['Magnesium']<lower_lim,math.ceil(lower_lim),df['Magnesium']))"
   ]
  },
  {
   "cell_type": "code",
   "execution_count": 16,
   "id": "06f694e0",
   "metadata": {},
   "outputs": [
    {
     "name": "stdout",
     "output_type": "stream",
     "text": [
      "Q1 =  1.25\n",
      "Q3 =  1.95\n",
      "IQR =  0.7\n",
      "upper limit =  3.0\n",
      "lower limit  =  0.20000000000000018\n",
      " outliers =  [3.28, 3.58]\n"
     ]
    }
   ],
   "source": [
    "q1 = np.percentile(df['Proanthocyanins'],25)\n",
    "q3 = np.percentile(df['Proanthocyanins'],75)\n",
    "\n",
    "IQR = q3-q1\n",
    "\n",
    "upper_lim=q3+IQR*1.5\n",
    "lower_lim=q1-IQR*1.5\n",
    "\n",
    "outliers = []\n",
    "for i in df['Proanthocyanins']:\n",
    "    if (i>upper_lim)| (i<lower_lim):\n",
    "        outliers.append(i)\n",
    "print('Q1 = ',q1)\n",
    "print('Q3 = ',q3)\n",
    "print('IQR = ',IQR)\n",
    "print('upper limit = ',upper_lim)\n",
    "print('lower limit  = ',lower_lim)\n",
    "print(' outliers = ',outliers)"
   ]
  },
  {
   "cell_type": "code",
   "execution_count": 17,
   "id": "0d187e84",
   "metadata": {},
   "outputs": [],
   "source": [
    "df['Proanthocyanins']=np.where(df['Proanthocyanins']>upper_lim,math.floor(upper_lim),\n",
    "                          np.where(df['Proanthocyanins']<lower_lim,math.ceil(lower_lim),df['Proanthocyanins']))"
   ]
  },
  {
   "cell_type": "code",
   "execution_count": 18,
   "id": "b7d7072c",
   "metadata": {},
   "outputs": [
    {
     "name": "stdout",
     "output_type": "stream",
     "text": [
      "Q1 =  3.2199999999999998\n",
      "Q3 =  6.2\n",
      "IQR =  2.9800000000000004\n",
      "upper limit =  10.670000000000002\n",
      "lower limit  =  -1.2500000000000009\n",
      " outliers =  [10.8, 13.0, 11.75, 10.68]\n"
     ]
    }
   ],
   "source": [
    "q1 = np.percentile(df['Color_Intensity'],25)\n",
    "q3 = np.percentile(df['Color_Intensity'],75)\n",
    "\n",
    "IQR = q3-q1\n",
    "\n",
    "upper_lim=q3+IQR*1.5\n",
    "lower_lim=q1-IQR*1.5\n",
    "\n",
    "outliers = []\n",
    "for i in df['Color_Intensity']:\n",
    "    if (i>upper_lim)| (i<lower_lim):\n",
    "        outliers.append(i)\n",
    "print('Q1 = ',q1)\n",
    "print('Q3 = ',q3)\n",
    "print('IQR = ',IQR)\n",
    "print('upper limit = ',upper_lim)\n",
    "print('lower limit  = ',lower_lim)\n",
    "print(' outliers = ',outliers)"
   ]
  },
  {
   "cell_type": "code",
   "execution_count": 19,
   "id": "b732ba7b",
   "metadata": {},
   "outputs": [],
   "source": [
    "df['Color_Intensity']=np.where(df['Color_Intensity']>upper_lim,math.floor(upper_lim),\n",
    "                          np.where(df['Color_Intensity']<lower_lim,math.ceil(lower_lim),df['Color_Intensity']))"
   ]
  },
  {
   "cell_type": "code",
   "execution_count": 20,
   "id": "b22bf4f2",
   "metadata": {},
   "outputs": [
    {
     "name": "stdout",
     "output_type": "stream",
     "text": [
      "Q1 =  0.7825\n",
      "Q3 =  1.12\n",
      "IQR =  0.33750000000000013\n",
      "upper limit =  1.6262500000000002\n",
      "lower limit  =  0.2762499999999998\n",
      " outliers =  [1.71]\n"
     ]
    }
   ],
   "source": [
    "q1 = np.percentile(df['Hue'],25)\n",
    "q3 = np.percentile(df['Hue'],75)\n",
    "\n",
    "IQR = q3-q1\n",
    "\n",
    "upper_lim=q3+IQR*1.5\n",
    "lower_lim=q1-IQR*1.5\n",
    "\n",
    "outliers = []\n",
    "for i in df['Hue']:\n",
    "    if (i>upper_lim)| (i<lower_lim):\n",
    "        outliers.append(i)\n",
    "print('Q1 = ',q1)\n",
    "print('Q3 = ',q3)\n",
    "print('IQR = ',IQR)\n",
    "print('upper limit = ',upper_lim)\n",
    "print('lower limit  = ',lower_lim)\n",
    "print(' outliers = ',outliers)"
   ]
  },
  {
   "cell_type": "code",
   "execution_count": 21,
   "id": "409e6611",
   "metadata": {},
   "outputs": [],
   "source": [
    "df['Hue']=np.where(df['Hue']>upper_lim,math.floor(upper_lim),\n",
    "                          np.where(df['Hue']<lower_lim,math.ceil(lower_lim),df['Hue']))"
   ]
  },
  {
   "cell_type": "markdown",
   "id": "0f37a63f",
   "metadata": {},
   "source": [
    "So we have now handled the outliers.let us again check whether the outliers were handled or not"
   ]
  },
  {
   "cell_type": "code",
   "execution_count": 22,
   "id": "846323f0",
   "metadata": {},
   "outputs": [
    {
     "name": "stderr",
     "output_type": "stream",
     "text": [
      "C:\\Users\\perei\\anaconda3\\envs\\new1\\lib\\site-packages\\seaborn\\_decorators.py:36: FutureWarning: Pass the following variable as a keyword arg: x. From version 0.12, the only valid positional argument will be `data`, and passing other arguments without an explicit keyword will result in an error or misinterpretation.\n",
      "  warnings.warn(\n",
      "C:\\Users\\perei\\anaconda3\\envs\\new1\\lib\\site-packages\\seaborn\\_decorators.py:36: FutureWarning: Pass the following variable as a keyword arg: x. From version 0.12, the only valid positional argument will be `data`, and passing other arguments without an explicit keyword will result in an error or misinterpretation.\n",
      "  warnings.warn(\n",
      "C:\\Users\\perei\\anaconda3\\envs\\new1\\lib\\site-packages\\seaborn\\_decorators.py:36: FutureWarning: Pass the following variable as a keyword arg: x. From version 0.12, the only valid positional argument will be `data`, and passing other arguments without an explicit keyword will result in an error or misinterpretation.\n",
      "  warnings.warn(\n",
      "C:\\Users\\perei\\anaconda3\\envs\\new1\\lib\\site-packages\\seaborn\\_decorators.py:36: FutureWarning: Pass the following variable as a keyword arg: x. From version 0.12, the only valid positional argument will be `data`, and passing other arguments without an explicit keyword will result in an error or misinterpretation.\n",
      "  warnings.warn(\n",
      "C:\\Users\\perei\\anaconda3\\envs\\new1\\lib\\site-packages\\seaborn\\_decorators.py:36: FutureWarning: Pass the following variable as a keyword arg: x. From version 0.12, the only valid positional argument will be `data`, and passing other arguments without an explicit keyword will result in an error or misinterpretation.\n",
      "  warnings.warn(\n",
      "C:\\Users\\perei\\anaconda3\\envs\\new1\\lib\\site-packages\\seaborn\\_decorators.py:36: FutureWarning: Pass the following variable as a keyword arg: x. From version 0.12, the only valid positional argument will be `data`, and passing other arguments without an explicit keyword will result in an error or misinterpretation.\n",
      "  warnings.warn(\n",
      "C:\\Users\\perei\\anaconda3\\envs\\new1\\lib\\site-packages\\seaborn\\_decorators.py:36: FutureWarning: Pass the following variable as a keyword arg: x. From version 0.12, the only valid positional argument will be `data`, and passing other arguments without an explicit keyword will result in an error or misinterpretation.\n",
      "  warnings.warn(\n",
      "C:\\Users\\perei\\anaconda3\\envs\\new1\\lib\\site-packages\\seaborn\\_decorators.py:36: FutureWarning: Pass the following variable as a keyword arg: x. From version 0.12, the only valid positional argument will be `data`, and passing other arguments without an explicit keyword will result in an error or misinterpretation.\n",
      "  warnings.warn(\n",
      "C:\\Users\\perei\\anaconda3\\envs\\new1\\lib\\site-packages\\seaborn\\_decorators.py:36: FutureWarning: Pass the following variable as a keyword arg: x. From version 0.12, the only valid positional argument will be `data`, and passing other arguments without an explicit keyword will result in an error or misinterpretation.\n",
      "  warnings.warn(\n",
      "C:\\Users\\perei\\anaconda3\\envs\\new1\\lib\\site-packages\\seaborn\\_decorators.py:36: FutureWarning: Pass the following variable as a keyword arg: x. From version 0.12, the only valid positional argument will be `data`, and passing other arguments without an explicit keyword will result in an error or misinterpretation.\n",
      "  warnings.warn(\n",
      "C:\\Users\\perei\\anaconda3\\envs\\new1\\lib\\site-packages\\seaborn\\_decorators.py:36: FutureWarning: Pass the following variable as a keyword arg: x. From version 0.12, the only valid positional argument will be `data`, and passing other arguments without an explicit keyword will result in an error or misinterpretation.\n",
      "  warnings.warn(\n",
      "C:\\Users\\perei\\anaconda3\\envs\\new1\\lib\\site-packages\\seaborn\\_decorators.py:36: FutureWarning: Pass the following variable as a keyword arg: x. From version 0.12, the only valid positional argument will be `data`, and passing other arguments without an explicit keyword will result in an error or misinterpretation.\n",
      "  warnings.warn(\n",
      "C:\\Users\\perei\\anaconda3\\envs\\new1\\lib\\site-packages\\seaborn\\_decorators.py:36: FutureWarning: Pass the following variable as a keyword arg: x. From version 0.12, the only valid positional argument will be `data`, and passing other arguments without an explicit keyword will result in an error or misinterpretation.\n",
      "  warnings.warn(\n"
     ]
    },
    {
     "data": {
      "image/png": "[encoded data removed]",
      "text/plain": [
       "<Figure size 1080x864 with 13 Axes>"
      ]
     },
     "metadata": {
      "needs_background": "light"
     },
     "output_type": "display_data"
    }
   ],
   "source": [
    "plt.figure(figsize= (15,12))\n",
    "\n",
    "plt.subplot(4,4,1)\n",
    "sns.boxplot(df['Alcohol'])\n",
    "\n",
    "plt.subplot(4,4,2)\n",
    "sns.boxplot(df['Malic_Acid'])\n",
    "\n",
    "plt.subplot(4,4,3)\n",
    "sns.boxplot(df['Ash'])\n",
    "\n",
    "plt.subplot(4,4,4)\n",
    "sns.boxplot(df['Ash_Alcanity'])\n",
    "\n",
    "plt.subplot(4,4,5)\n",
    "sns.boxplot(df['Magnesium'])\n",
    "\n",
    "plt.subplot(4,4,6)\n",
    "sns.boxplot(df['Total_Phenols'])\n",
    "\n",
    "plt.subplot(4,4,7)\n",
    "sns.boxplot(df['Flavanoids'])\n",
    "\n",
    "plt.subplot(4,4,8)\n",
    "sns.boxplot(df['Nonflavanoid_Phenols'])\n",
    "\n",
    "plt.subplot(4,4,9)\n",
    "sns.boxplot(df['Proanthocyanins'])\n",
    "\n",
    "plt.subplot(4,4,10)\n",
    "sns.boxplot(df['Color_Intensity'])\n",
    "\n",
    "plt.subplot(4,4,11)\n",
    "sns.boxplot(df['Hue'])\n",
    "\n",
    "plt.subplot(4,4,12)\n",
    "sns.boxplot(df['OD280'])\n",
    "\n",
    "plt.subplot(4,4,13)\n",
    "sns.boxplot(df['Proline'])\n",
    "\n",
    "plt.tight_layout()\n",
    "plt.show()"
   ]
  },
  {
   "cell_type": "markdown",
   "id": "86efd80a",
   "metadata": {},
   "source": [
    "we can see that outliers were handled successfully\n"
   ]
  },
  {
   "cell_type": "code",
   "execution_count": 23,
   "id": "cc8bcb82",
   "metadata": {},
   "outputs": [],
   "source": [
    "# let us now use standard scaling because different values are in different scales\n",
    "from sklearn.preprocessing import StandardScaler\n",
    "scaler = StandardScaler()\n",
    "scaled_data = scaler.fit_transform(df)"
   ]
  },
  {
   "cell_type": "code",
   "execution_count": 24,
   "id": "5b2aedea",
   "metadata": {},
   "outputs": [
    {
     "data": {
      "text/html": [
       "<div>\n",
       "<style scoped>\n",
       "    .dataframe tbody tr th:only-of-type {\n",
       "        vertical-align: middle;\n",
       "    }\n",
       "\n",
       "    .dataframe tbody tr th {\n",
       "        vertical-align: top;\n",
       "    }\n",
       "\n",
       "    .dataframe thead th {\n",
       "        text-align: right;\n",
       "    }\n",
       "</style>\n",
       "<table border=\"1\" class=\"dataframe\">\n",
       "  <thead>\n",
       "    <tr style=\"text-align: right;\">\n",
       "      <th></th>\n",
       "      <th>0</th>\n",
       "      <th>1</th>\n",
       "      <th>2</th>\n",
       "      <th>3</th>\n",
       "      <th>4</th>\n",
       "      <th>5</th>\n",
       "      <th>6</th>\n",
       "      <th>7</th>\n",
       "      <th>8</th>\n",
       "      <th>9</th>\n",
       "      <th>10</th>\n",
       "      <th>11</th>\n",
       "      <th>12</th>\n",
       "    </tr>\n",
       "  </thead>\n",
       "  <tbody>\n",
       "    <tr>\n",
       "      <th>count</th>\n",
       "      <td>178.0000</td>\n",
       "      <td>178.0000</td>\n",
       "      <td>178.0000</td>\n",
       "      <td>178.0000</td>\n",
       "      <td>178.0000</td>\n",
       "      <td>178.0000</td>\n",
       "      <td>178.0000</td>\n",
       "      <td>178.0000</td>\n",
       "      <td>178.0000</td>\n",
       "      <td>178.0000</td>\n",
       "      <td>178.0000</td>\n",
       "      <td>178.0000</td>\n",
       "      <td>178.0000</td>\n",
       "    </tr>\n",
       "    <tr>\n",
       "      <th>mean</th>\n",
       "      <td>-0.0000</td>\n",
       "      <td>-0.0000</td>\n",
       "      <td>0.0000</td>\n",
       "      <td>0.0000</td>\n",
       "      <td>-0.0000</td>\n",
       "      <td>0.0000</td>\n",
       "      <td>-0.0000</td>\n",
       "      <td>0.0000</td>\n",
       "      <td>0.0000</td>\n",
       "      <td>0.0000</td>\n",
       "      <td>-0.0000</td>\n",
       "      <td>0.0000</td>\n",
       "      <td>-0.0000</td>\n",
       "    </tr>\n",
       "    <tr>\n",
       "      <th>std</th>\n",
       "      <td>1.0028</td>\n",
       "      <td>1.0028</td>\n",
       "      <td>1.0028</td>\n",
       "      <td>1.0028</td>\n",
       "      <td>1.0028</td>\n",
       "      <td>1.0028</td>\n",
       "      <td>1.0028</td>\n",
       "      <td>1.0028</td>\n",
       "      <td>1.0028</td>\n",
       "      <td>1.0028</td>\n",
       "      <td>1.0028</td>\n",
       "      <td>1.0028</td>\n",
       "      <td>1.0028</td>\n",
       "    </tr>\n",
       "    <tr>\n",
       "      <th>min</th>\n",
       "      <td>-2.4342</td>\n",
       "      <td>-1.4627</td>\n",
       "      <td>-2.5960</td>\n",
       "      <td>-2.6159</td>\n",
       "      <td>-2.2082</td>\n",
       "      <td>-2.1072</td>\n",
       "      <td>-1.6960</td>\n",
       "      <td>-1.8682</td>\n",
       "      <td>-2.1130</td>\n",
       "      <td>-1.6870</td>\n",
       "      <td>-2.1440</td>\n",
       "      <td>-1.8951</td>\n",
       "      <td>-1.4932</td>\n",
       "    </tr>\n",
       "    <tr>\n",
       "      <th>25%</th>\n",
       "      <td>-0.7882</td>\n",
       "      <td>-0.6669</td>\n",
       "      <td>-0.6128</td>\n",
       "      <td>-0.6996</td>\n",
       "      <td>-0.8596</td>\n",
       "      <td>-0.8855</td>\n",
       "      <td>-0.8275</td>\n",
       "      <td>-0.7401</td>\n",
       "      <td>-0.6038</td>\n",
       "      <td>-0.8126</td>\n",
       "      <td>-0.7742</td>\n",
       "      <td>-0.9522</td>\n",
       "      <td>-0.7846</td>\n",
       "    </tr>\n",
       "    <tr>\n",
       "      <th>50%</th>\n",
       "      <td>0.0610</td>\n",
       "      <td>-0.4247</td>\n",
       "      <td>-0.0295</td>\n",
       "      <td>0.0113</td>\n",
       "      <td>-0.1103</td>\n",
       "      <td>0.0960</td>\n",
       "      <td>0.1061</td>\n",
       "      <td>-0.1761</td>\n",
       "      <td>-0.0558</td>\n",
       "      <td>-0.1501</td>\n",
       "      <td>0.0523</td>\n",
       "      <td>0.2377</td>\n",
       "      <td>-0.2337</td>\n",
       "    </tr>\n",
       "    <tr>\n",
       "      <th>75%</th>\n",
       "      <td>0.8361</td>\n",
       "      <td>0.6986</td>\n",
       "      <td>0.7385</td>\n",
       "      <td>0.6294</td>\n",
       "      <td>0.5641</td>\n",
       "      <td>0.8090</td>\n",
       "      <td>0.8491</td>\n",
       "      <td>0.6095</td>\n",
       "      <td>0.6539</td>\n",
       "      <td>0.5304</td>\n",
       "      <td>0.7542</td>\n",
       "      <td>0.7886</td>\n",
       "      <td>0.7582</td>\n",
       "    </tr>\n",
       "    <tr>\n",
       "      <th>max</th>\n",
       "      <td>2.2598</td>\n",
       "      <td>2.6430</td>\n",
       "      <td>2.4592</td>\n",
       "      <td>2.3294</td>\n",
       "      <td>2.6620</td>\n",
       "      <td>2.5395</td>\n",
       "      <td>3.0628</td>\n",
       "      <td>2.4024</td>\n",
       "      <td>2.5404</td>\n",
       "      <td>2.4774</td>\n",
       "      <td>2.2486</td>\n",
       "      <td>1.9609</td>\n",
       "      <td>2.9715</td>\n",
       "    </tr>\n",
       "  </tbody>\n",
       "</table>\n",
       "</div>"
      ],
      "text/plain": [
       "             0         1         2         3         4         5         6   \\\n",
       "count  178.0000  178.0000  178.0000  178.0000  178.0000  178.0000  178.0000   \n",
       "mean    -0.0000   -0.0000    0.0000    0.0000   -0.0000    0.0000   -0.0000   \n",
       "std      1.0028    1.0028    1.0028    1.0028    1.0028    1.0028    1.0028   \n",
       "min     -2.4342   -1.4627   -2.5960   -2.6159   -2.2082   -2.1072   -1.6960   \n",
       "25%     -0.7882   -0.6669   -0.6128   -0.6996   -0.8596   -0.8855   -0.8275   \n",
       "50%      0.0610   -0.4247   -0.0295    0.0113   -0.1103    0.0960    0.1061   \n",
       "75%      0.8361    0.6986    0.7385    0.6294    0.5641    0.8090    0.8491   \n",
       "max      2.2598    2.6430    2.4592    2.3294    2.6620    2.5395    3.0628   \n",
       "\n",
       "             7         8         9         10        11        12  \n",
       "count  178.0000  178.0000  178.0000  178.0000  178.0000  178.0000  \n",
       "mean     0.0000    0.0000    0.0000   -0.0000    0.0000   -0.0000  \n",
       "std      1.0028    1.0028    1.0028    1.0028    1.0028    1.0028  \n",
       "min     -1.8682   -2.1130   -1.6870   -2.1440   -1.8951   -1.4932  \n",
       "25%     -0.7401   -0.6038   -0.8126   -0.7742   -0.9522   -0.7846  \n",
       "50%     -0.1761   -0.0558   -0.1501    0.0523    0.2377   -0.2337  \n",
       "75%      0.6095    0.6539    0.5304    0.7542    0.7886    0.7582  \n",
       "max      2.4024    2.5404    2.4774    2.2486    1.9609    2.9715  "
      ]
     },
     "execution_count": 24,
     "metadata": {},
     "output_type": "execute_result"
    }
   ],
   "source": [
    "scaled_data =pd.DataFrame(scaled_data)\n",
    "scaled_data.describe().round(4)"
   ]
  },
  {
   "cell_type": "markdown",
   "id": "816e9004",
   "metadata": {},
   "source": [
    "# K-Means Clustering"
   ]
  },
  {
   "cell_type": "code",
   "execution_count": 25,
   "id": "6835039b",
   "metadata": {},
   "outputs": [
    {
     "name": "stderr",
     "output_type": "stream",
     "text": [
      "C:\\Users\\perei\\anaconda3\\envs\\new1\\lib\\site-packages\\sklearn\\cluster\\_kmeans.py:1039: UserWarning: KMeans is known to have a memory leak on Windows with MKL, when there are less chunks than available threads. You can avoid it by setting the environment variable OMP_NUM_THREADS=1.\n",
      "  warnings.warn(\n"
     ]
    },
    {
     "data": {
      "text/plain": [
       "[2313.9999999999995,\n",
       " 1648.61068948054,\n",
       " 1260.524618322852,\n",
       " 1164.476196888793,\n",
       " 1096.668661138703,\n",
       " 1026.1159510298132,\n",
       " 987.2987842354419,\n",
       " 946.1145742018678,\n",
       " 897.790399281995,\n",
       " 873.2171372168405,\n",
       " 817.9519717422515,\n",
       " 799.479277889871,\n",
       " 762.1685616391642,\n",
       " 745.7935342246868,\n",
       " 726.7908851214895]"
      ]
     },
     "execution_count": 25,
     "metadata": {},
     "output_type": "execute_result"
    }
   ],
   "source": [
    "# imporing kmeans and finding out inertia values for different number of clusters\n",
    "from sklearn.cluster import KMeans\n",
    "wcss = []\n",
    "for i in range(1,16):\n",
    "    kmeans=KMeans(n_clusters = i,init='k-means++',random_state = 42)\n",
    "    kmeans.fit(scaled_data)\n",
    "    wcss.append(kmeans.inertia_)\n",
    "wcss"
   ]
  },
  {
   "cell_type": "code",
   "execution_count": 26,
   "id": "9a55ff2d",
   "metadata": {},
   "outputs": [
    {
     "data": {
      "image/png": "[encoded data removed]",
      "text/plain": [
       "<Figure size 432x288 with 1 Axes>"
      ]
     },
     "metadata": {
      "needs_background": "light"
     },
     "output_type": "display_data"
    }
   ],
   "source": [
    "# inorder to determine the optimum number of clusters we use elbow method\n",
    "plt.plot(range(1,16),wcss,marker = 'D')\n",
    "plt.title('Elbow method')\n",
    "plt.xlabel('no of clusters')\n",
    "plt.ylabel('inertia')\n",
    "plt.show()"
   ]
  },
  {
   "cell_type": "code",
   "execution_count": 27,
   "id": "ddffe40c",
   "metadata": {},
   "outputs": [],
   "source": [
    "# inorder to evaluate the cluster we use silhouette scores\n",
    "from sklearn.metrics import silhouette_score\n",
    "scores=[]\n",
    "for i in range(2,16):\n",
    "    kmeans=KMeans(n_clusters = i,init='k-means++',random_state = 42)\n",
    "    kmeans.fit(scaled_data)\n",
    "    y=kmeans.predict(scaled_data)\n",
    "    score = silhouette_score(scaled_data,y)\n",
    "    scores.append(score)"
   ]
  },
  {
   "cell_type": "code",
   "execution_count": 28,
   "id": "16f53a4b",
   "metadata": {},
   "outputs": [
    {
     "data": {
      "text/plain": [
       "[0.25975124119832715,\n",
       " 0.2864168123425811,\n",
       " 0.24685034473858727,\n",
       " 0.20138544511454515,\n",
       " 0.1915431161066635,\n",
       " 0.1435460970120536,\n",
       " 0.14030428202291004,\n",
       " 0.14604928597816885,\n",
       " 0.13211686229725914,\n",
       " 0.1494396207076912,\n",
       " 0.13949080959005133,\n",
       " 0.14141907245610347,\n",
       " 0.1321009974227038,\n",
       " 0.11666502094101733]"
      ]
     },
     "execution_count": 28,
     "metadata": {},
     "output_type": "execute_result"
    }
   ],
   "source": [
    "scores"
   ]
  },
  {
   "cell_type": "code",
   "execution_count": 29,
   "id": "cefeb37c",
   "metadata": {},
   "outputs": [
    {
     "data": {
      "image/png": "[encoded data removed]",
      "text/plain": [
       "<Figure size 432x288 with 1 Axes>"
      ]
     },
     "metadata": {
      "needs_background": "light"
     },
     "output_type": "display_data"
    }
   ],
   "source": [
    "plt.plot(range(2,16),scores,marker = 'D')\n",
    "plt.title('silhouette score graph')\n",
    "plt.xlabel('no of clusters')\n",
    "plt.ylabel('scores')\n",
    "plt.show()"
   ]
  },
  {
   "cell_type": "markdown",
   "id": "5fe00d81",
   "metadata": {},
   "source": [
    " so from elbow method and silhouette score we conclude that optimum number of clusters is 3"
   ]
  },
  {
   "cell_type": "code",
   "execution_count": 30,
   "id": "d788a8ae",
   "metadata": {},
   "outputs": [
    {
     "data": {
      "text/plain": [
       "array([2, 2, 2, 2, 2, 2, 2, 2, 2, 2, 2, 2, 2, 2, 2, 2, 2, 2, 2, 2, 2, 2,\n",
       "       2, 2, 2, 2, 2, 2, 2, 2, 2, 2, 2, 2, 2, 2, 2, 2, 2, 2, 2, 2, 2, 2,\n",
       "       2, 2, 2, 2, 2, 2, 2, 2, 2, 2, 2, 2, 2, 2, 2, 1, 1, 0, 1, 1, 1, 1,\n",
       "       1, 1, 1, 1, 1, 1, 1, 2, 1, 1, 1, 1, 1, 1, 1, 1, 1, 0, 1, 1, 1, 1,\n",
       "       1, 1, 1, 1, 1, 1, 1, 2, 1, 1, 1, 1, 1, 1, 1, 1, 1, 1, 1, 1, 1, 1,\n",
       "       1, 1, 1, 1, 1, 1, 1, 1, 0, 1, 1, 2, 1, 1, 1, 1, 1, 1, 1, 1, 0, 0,\n",
       "       0, 0, 0, 0, 0, 0, 0, 0, 0, 0, 0, 0, 0, 0, 0, 0, 0, 0, 0, 0, 0, 0,\n",
       "       0, 0, 0, 0, 0, 0, 0, 0, 0, 0, 0, 0, 0, 0, 0, 0, 0, 0, 0, 0, 0, 0,\n",
       "       0, 0])"
      ]
     },
     "execution_count": 30,
     "metadata": {},
     "output_type": "execute_result"
    }
   ],
   "source": [
    "kmeans1 = KMeans(n_clusters =3,init = 'k-means++',random_state = 42 )\n",
    "kmeans1.fit(scaled_data)\n",
    "y=kmeans1.predict(scaled_data)\n",
    "y"
   ]
  },
  {
   "cell_type": "code",
   "execution_count": 31,
   "id": "57d00c70",
   "metadata": {},
   "outputs": [
    {
     "data": {
      "text/plain": [
       "0.2864168123425811"
      ]
     },
     "execution_count": 31,
     "metadata": {},
     "output_type": "execute_result"
    }
   ],
   "source": [
    "silhouette_score(scaled_data,y)"
   ]
  },
  {
   "cell_type": "markdown",
   "id": "6615feae",
   "metadata": {},
   "source": [
    "here the silhouette score is positive but is little bit low. let us now try out hierarchial clustering "
   ]
  },
  {
   "cell_type": "markdown",
   "id": "3f10f008",
   "metadata": {},
   "source": [
    "# Hierarchial Clustering"
   ]
  },
  {
   "cell_type": "code",
   "execution_count": 32,
   "id": "3dacda86",
   "metadata": {},
   "outputs": [
    {
     "data": {
      "image/png": "[encoded data removed]",
      "text/plain": [
       "<Figure size 720x576 with 1 Axes>"
      ]
     },
     "metadata": {
      "needs_background": "light"
     },
     "output_type": "display_data"
    }
   ],
   "source": [
    "# using dendrogram to find out optimum number of clusters\n",
    "from scipy.cluster.hierarchy import dendrogram,linkage\n",
    "linked = linkage(scaled_data,method = 'ward')\n",
    "plt.figure(figsize = (10,8))\n",
    "dendrogram(linked,orientation = 'top',show_leaf_counts = True)\n",
    "plt.hlines(20,0,5000,colors = 'black',linestyles = 'dashed')\n",
    "plt.show()"
   ]
  },
  {
   "cell_type": "markdown",
   "id": "31f24019",
   "metadata": {},
   "source": [
    "so from above we get that 3 is the optimum number of cluster"
   ]
  },
  {
   "cell_type": "code",
   "execution_count": 33,
   "id": "8a1d97de",
   "metadata": {},
   "outputs": [
    {
     "data": {
      "text/plain": [
       "array([2, 2, 2, 2, 2, 2, 2, 2, 2, 2, 2, 2, 2, 2, 2, 2, 2, 2, 2, 2, 2, 2,\n",
       "       2, 2, 2, 2, 2, 2, 2, 2, 2, 2, 2, 2, 2, 2, 2, 2, 2, 2, 2, 2, 2, 2,\n",
       "       2, 2, 2, 2, 2, 2, 2, 2, 2, 2, 2, 2, 2, 2, 2, 1, 0, 0, 1, 1, 0, 1,\n",
       "       2, 1, 0, 1, 0, 1, 1, 2, 1, 1, 1, 0, 1, 1, 1, 1, 1, 0, 1, 1, 1, 1,\n",
       "       1, 1, 1, 1, 1, 1, 1, 1, 0, 1, 1, 1, 1, 1, 1, 1, 1, 1, 1, 1, 1, 1,\n",
       "       1, 1, 0, 1, 1, 1, 1, 1, 0, 1, 1, 2, 1, 1, 1, 1, 1, 1, 1, 1, 0, 0,\n",
       "       0, 0, 0, 0, 0, 0, 0, 0, 0, 0, 0, 0, 0, 0, 0, 0, 0, 0, 0, 0, 0, 0,\n",
       "       0, 0, 0, 0, 0, 0, 0, 0, 0, 0, 0, 0, 0, 0, 0, 0, 0, 0, 0, 0, 0, 0,\n",
       "       0, 0], dtype=int64)"
      ]
     },
     "execution_count": 33,
     "metadata": {},
     "output_type": "execute_result"
    }
   ],
   "source": [
    "from sklearn.cluster import AgglomerativeClustering\n",
    "cluster = AgglomerativeClustering(n_clusters = 3,affinity = 'euclidean',linkage = 'ward')\n",
    "y = cluster.fit_predict(scaled_data)\n",
    "y"
   ]
  },
  {
   "cell_type": "code",
   "execution_count": 34,
   "id": "821988a1",
   "metadata": {},
   "outputs": [],
   "source": [
    "score1 = silhouette_score(scaled_data,y)"
   ]
  },
  {
   "cell_type": "code",
   "execution_count": 35,
   "id": "d30bb28b",
   "metadata": {},
   "outputs": [
    {
     "data": {
      "text/plain": [
       "0.27439709472979606"
      ]
     },
     "execution_count": 35,
     "metadata": {},
     "output_type": "execute_result"
    }
   ],
   "source": [
    "score1"
   ]
  },
  {
   "cell_type": "markdown",
   "id": "56a3924c",
   "metadata": {},
   "source": [
    "again the silhouette score is positive but low. now let us normalize the data and see whether there is any change or not."
   ]
  },
  {
   "cell_type": "markdown",
   "id": "0194646f",
   "metadata": {},
   "source": [
    "# Normalization"
   ]
  },
  {
   "cell_type": "code",
   "execution_count": 36,
   "id": "ad832718",
   "metadata": {},
   "outputs": [],
   "source": [
    "from sklearn.preprocessing import Normalizer\n",
    "norm = Normalizer()\n",
    "norm_data =norm.fit_transform(df)\n",
    "norm_data = pd.DataFrame(norm_data)"
   ]
  },
  {
   "cell_type": "code",
   "execution_count": 37,
   "id": "edeb4d77",
   "metadata": {},
   "outputs": [
    {
     "data": {
      "text/html": [
       "<div>\n",
       "<style scoped>\n",
       "    .dataframe tbody tr th:only-of-type {\n",
       "        vertical-align: middle;\n",
       "    }\n",
       "\n",
       "    .dataframe tbody tr th {\n",
       "        vertical-align: top;\n",
       "    }\n",
       "\n",
       "    .dataframe thead th {\n",
       "        text-align: right;\n",
       "    }\n",
       "</style>\n",
       "<table border=\"1\" class=\"dataframe\">\n",
       "  <thead>\n",
       "    <tr style=\"text-align: right;\">\n",
       "      <th></th>\n",
       "      <th>0</th>\n",
       "      <th>1</th>\n",
       "      <th>2</th>\n",
       "      <th>3</th>\n",
       "      <th>4</th>\n",
       "      <th>5</th>\n",
       "      <th>6</th>\n",
       "      <th>7</th>\n",
       "      <th>8</th>\n",
       "      <th>9</th>\n",
       "      <th>10</th>\n",
       "      <th>11</th>\n",
       "      <th>12</th>\n",
       "    </tr>\n",
       "  </thead>\n",
       "  <tbody>\n",
       "    <tr>\n",
       "      <th>count</th>\n",
       "      <td>178.000000</td>\n",
       "      <td>178.000000</td>\n",
       "      <td>178.000000</td>\n",
       "      <td>178.000000</td>\n",
       "      <td>178.000000</td>\n",
       "      <td>178.000000</td>\n",
       "      <td>178.000000</td>\n",
       "      <td>178.000000</td>\n",
       "      <td>178.000000</td>\n",
       "      <td>178.000000</td>\n",
       "      <td>178.000000</td>\n",
       "      <td>178.000000</td>\n",
       "      <td>178.000000</td>\n",
       "    </tr>\n",
       "    <tr>\n",
       "      <th>mean</th>\n",
       "      <td>0.019951</td>\n",
       "      <td>0.003689</td>\n",
       "      <td>0.003647</td>\n",
       "      <td>0.031078</td>\n",
       "      <td>0.151238</td>\n",
       "      <td>0.003444</td>\n",
       "      <td>0.002973</td>\n",
       "      <td>0.000581</td>\n",
       "      <td>0.002389</td>\n",
       "      <td>0.007287</td>\n",
       "      <td>0.001468</td>\n",
       "      <td>0.003994</td>\n",
       "      <td>0.986074</td>\n",
       "    </tr>\n",
       "    <tr>\n",
       "      <th>std</th>\n",
       "      <td>0.007321</td>\n",
       "      <td>0.002430</td>\n",
       "      <td>0.001401</td>\n",
       "      <td>0.014605</td>\n",
       "      <td>0.053973</td>\n",
       "      <td>0.001543</td>\n",
       "      <td>0.001802</td>\n",
       "      <td>0.000327</td>\n",
       "      <td>0.001233</td>\n",
       "      <td>0.003690</td>\n",
       "      <td>0.000712</td>\n",
       "      <td>0.001979</td>\n",
       "      <td>0.010060</td>\n",
       "    </tr>\n",
       "    <tr>\n",
       "      <th>min</th>\n",
       "      <td>0.008428</td>\n",
       "      <td>0.000944</td>\n",
       "      <td>0.001473</td>\n",
       "      <td>0.007739</td>\n",
       "      <td>0.064147</td>\n",
       "      <td>0.001255</td>\n",
       "      <td>0.000637</td>\n",
       "      <td>0.000145</td>\n",
       "      <td>0.000554</td>\n",
       "      <td>0.002241</td>\n",
       "      <td>0.000579</td>\n",
       "      <td>0.001675</td>\n",
       "      <td>0.951812</td>\n",
       "    </tr>\n",
       "    <tr>\n",
       "      <th>25%</th>\n",
       "      <td>0.013548</td>\n",
       "      <td>0.001684</td>\n",
       "      <td>0.002359</td>\n",
       "      <td>0.017615</td>\n",
       "      <td>0.109775</td>\n",
       "      <td>0.002385</td>\n",
       "      <td>0.001752</td>\n",
       "      <td>0.000277</td>\n",
       "      <td>0.001515</td>\n",
       "      <td>0.004612</td>\n",
       "      <td>0.000970</td>\n",
       "      <td>0.002535</td>\n",
       "      <td>0.981724</td>\n",
       "    </tr>\n",
       "    <tr>\n",
       "      <th>50%</th>\n",
       "      <td>0.018984</td>\n",
       "      <td>0.003174</td>\n",
       "      <td>0.003500</td>\n",
       "      <td>0.029883</td>\n",
       "      <td>0.146129</td>\n",
       "      <td>0.002946</td>\n",
       "      <td>0.002721</td>\n",
       "      <td>0.000514</td>\n",
       "      <td>0.002030</td>\n",
       "      <td>0.005981</td>\n",
       "      <td>0.001232</td>\n",
       "      <td>0.003384</td>\n",
       "      <td>0.988575</td>\n",
       "    </tr>\n",
       "    <tr>\n",
       "      <th>75%</th>\n",
       "      <td>0.024784</td>\n",
       "      <td>0.004981</td>\n",
       "      <td>0.004506</td>\n",
       "      <td>0.040010</td>\n",
       "      <td>0.183082</td>\n",
       "      <td>0.003886</td>\n",
       "      <td>0.003551</td>\n",
       "      <td>0.000833</td>\n",
       "      <td>0.003040</td>\n",
       "      <td>0.008853</td>\n",
       "      <td>0.001834</td>\n",
       "      <td>0.004870</td>\n",
       "      <td>0.993564</td>\n",
       "    </tr>\n",
       "    <tr>\n",
       "      <th>max</th>\n",
       "      <td>0.041106</td>\n",
       "      <td>0.012804</td>\n",
       "      <td>0.007305</td>\n",
       "      <td>0.069703</td>\n",
       "      <td>0.297958</td>\n",
       "      <td>0.008404</td>\n",
       "      <td>0.010562</td>\n",
       "      <td>0.002008</td>\n",
       "      <td>0.007469</td>\n",
       "      <td>0.020690</td>\n",
       "      <td>0.004727</td>\n",
       "      <td>0.010858</td>\n",
       "      <td>0.997835</td>\n",
       "    </tr>\n",
       "  </tbody>\n",
       "</table>\n",
       "</div>"
      ],
      "text/plain": [
       "               0           1           2           3           4           5   \\\n",
       "count  178.000000  178.000000  178.000000  178.000000  178.000000  178.000000   \n",
       "mean     0.019951    0.003689    0.003647    0.031078    0.151238    0.003444   \n",
       "std      0.007321    0.002430    0.001401    0.014605    0.053973    0.001543   \n",
       "min      0.008428    0.000944    0.001473    0.007739    0.064147    0.001255   \n",
       "25%      0.013548    0.001684    0.002359    0.017615    0.109775    0.002385   \n",
       "50%      0.018984    0.003174    0.003500    0.029883    0.146129    0.002946   \n",
       "75%      0.024784    0.004981    0.004506    0.040010    0.183082    0.003886   \n",
       "max      0.041106    0.012804    0.007305    0.069703    0.297958    0.008404   \n",
       "\n",
       "               6           7           8           9           10          11  \\\n",
       "count  178.000000  178.000000  178.000000  178.000000  178.000000  178.000000   \n",
       "mean     0.002973    0.000581    0.002389    0.007287    0.001468    0.003994   \n",
       "std      0.001802    0.000327    0.001233    0.003690    0.000712    0.001979   \n",
       "min      0.000637    0.000145    0.000554    0.002241    0.000579    0.001675   \n",
       "25%      0.001752    0.000277    0.001515    0.004612    0.000970    0.002535   \n",
       "50%      0.002721    0.000514    0.002030    0.005981    0.001232    0.003384   \n",
       "75%      0.003551    0.000833    0.003040    0.008853    0.001834    0.004870   \n",
       "max      0.010562    0.002008    0.007469    0.020690    0.004727    0.010858   \n",
       "\n",
       "               12  \n",
       "count  178.000000  \n",
       "mean     0.986074  \n",
       "std      0.010060  \n",
       "min      0.951812  \n",
       "25%      0.981724  \n",
       "50%      0.988575  \n",
       "75%      0.993564  \n",
       "max      0.997835  "
      ]
     },
     "execution_count": 37,
     "metadata": {},
     "output_type": "execute_result"
    }
   ],
   "source": [
    "norm_data.describe()"
   ]
  },
  {
   "cell_type": "markdown",
   "id": "bada07e0",
   "metadata": {},
   "source": [
    "# K-Means Clustering "
   ]
  },
  {
   "cell_type": "code",
   "execution_count": 38,
   "id": "ff0fe2ab",
   "metadata": {},
   "outputs": [
    {
     "name": "stderr",
     "output_type": "stream",
     "text": [
      "C:\\Users\\perei\\anaconda3\\envs\\new1\\lib\\site-packages\\sklearn\\cluster\\_kmeans.py:1039: UserWarning: KMeans is known to have a memory leak on Windows with MKL, when there are less chunks than available threads. You can avoid it by setting the environment variable OMP_NUM_THREADS=1.\n",
      "  warnings.warn(\n"
     ]
    },
    {
     "data": {
      "text/plain": [
       "[0.5866431351860727,\n",
       " 0.20924294906299673,\n",
       " 0.10195623195450132,\n",
       " 0.05820750350132403,\n",
       " 0.03888952633305246,\n",
       " 0.03020002481982903,\n",
       " 0.025610691287089087,\n",
       " 0.022719094949108263,\n",
       " 0.01951113512668298,\n",
       " 0.01775661983211029,\n",
       " 0.016407889110293797,\n",
       " 0.015290782816131965,\n",
       " 0.014207417273536875,\n",
       " 0.01363913330621546,\n",
       " 0.012444028495427082]"
      ]
     },
     "execution_count": 38,
     "metadata": {},
     "output_type": "execute_result"
    }
   ],
   "source": [
    "wcss = []\n",
    "for i in range(1,16):\n",
    "    kmeans=KMeans(n_clusters = i,init='k-means++',random_state = 42)\n",
    "    kmeans.fit(norm_data)\n",
    "    wcss.append(kmeans.inertia_)\n",
    "wcss"
   ]
  },
  {
   "cell_type": "code",
   "execution_count": 39,
   "id": "d49305bf",
   "metadata": {},
   "outputs": [
    {
     "data": {
      "image/png": "[encoded data removed]",
      "text/plain": [
       "<Figure size 432x288 with 1 Axes>"
      ]
     },
     "metadata": {
      "needs_background": "light"
     },
     "output_type": "display_data"
    }
   ],
   "source": [
    "plt.plot(range(1,16),wcss,marker = 'D')\n",
    "plt.title('Elbow method')\n",
    "plt.xlabel('no of clusters')\n",
    "plt.ylabel('inertia')\n",
    "plt.show()"
   ]
  },
  {
   "cell_type": "code",
   "execution_count": 40,
   "id": "4ee407f2",
   "metadata": {},
   "outputs": [],
   "source": [
    "scores=[]\n",
    "for i in range(2,16):\n",
    "    kmeans=KMeans(n_clusters = i,init='k-means++',random_state = 42)\n",
    "    kmeans.fit(norm_data)\n",
    "    y=kmeans.predict(norm_data)\n",
    "    score = silhouette_score(norm_data,y)\n",
    "    scores.append(score)"
   ]
  },
  {
   "cell_type": "code",
   "execution_count": 41,
   "id": "bb884e16",
   "metadata": {},
   "outputs": [
    {
     "data": {
      "image/png": "[encoded data removed]",
      "text/plain": [
       "<Figure size 432x288 with 1 Axes>"
      ]
     },
     "metadata": {
      "needs_background": "light"
     },
     "output_type": "display_data"
    }
   ],
   "source": [
    "plt.plot(range(2,16),scores,marker = 'D')\n",
    "plt.title('silhouette score graph')\n",
    "plt.xlabel('no of clusters')\n",
    "plt.ylabel('scores')\n",
    "plt.show()"
   ]
  },
  {
   "cell_type": "code",
   "execution_count": 42,
   "id": "d217b6a2",
   "metadata": {},
   "outputs": [
    {
     "data": {
      "text/plain": [
       "[0.5417808631040887,\n",
       " 0.5247945639497859,\n",
       " 0.5201239975970764,\n",
       " 0.49585307553897157,\n",
       " 0.4565511027169057,\n",
       " 0.43964713802464456,\n",
       " 0.4046705134630774,\n",
       " 0.4030980132388208,\n",
       " 0.3728875028135322,\n",
       " 0.38274686949420267,\n",
       " 0.3596825637781636,\n",
       " 0.35774552752307337,\n",
       " 0.3338845329349504,\n",
       " 0.3537067887540272]"
      ]
     },
     "execution_count": 42,
     "metadata": {},
     "output_type": "execute_result"
    }
   ],
   "source": [
    "scores"
   ]
  },
  {
   "cell_type": "code",
   "execution_count": 43,
   "id": "ca098ceb",
   "metadata": {},
   "outputs": [
    {
     "data": {
      "text/plain": [
       "array([2, 2, 2, 2, 1, 2, 2, 2, 2, 2, 2, 2, 2, 2, 2, 2, 2, 2, 2, 1, 1, 1,\n",
       "       2, 2, 2, 1, 2, 2, 2, 2, 2, 2, 2, 2, 2, 2, 2, 2, 2, 1, 1, 2, 2, 1,\n",
       "       2, 2, 2, 2, 2, 2, 2, 2, 2, 2, 2, 2, 2, 2, 2, 1, 1, 0, 1, 0, 0, 1,\n",
       "       1, 1, 1, 1, 2, 0, 1, 1, 2, 0, 0, 0, 1, 0, 0, 2, 1, 1, 1, 0, 1, 1,\n",
       "       2, 2, 1, 1, 1, 0, 0, 1, 0, 1, 1, 0, 1, 1, 0, 0, 1, 0, 1, 1, 0, 1,\n",
       "       1, 0, 1, 0, 0, 0, 1, 0, 0, 1, 1, 0, 0, 0, 0, 0, 0, 0, 0, 1, 1, 1,\n",
       "       1, 1, 1, 1, 2, 1, 1, 1, 1, 2, 1, 1, 1, 2, 1, 1, 1, 0, 0, 0, 0, 1,\n",
       "       1, 1, 1, 2, 1, 1, 1, 1, 1, 1, 1, 1, 1, 1, 1, 1, 1, 1, 1, 1, 1, 1,\n",
       "       1, 1])"
      ]
     },
     "execution_count": 43,
     "metadata": {},
     "output_type": "execute_result"
    }
   ],
   "source": [
    "kmeans1 = KMeans(n_clusters =3,init = 'k-means++',random_state = 42 )\n",
    "kmeans1.fit(norm_data)\n",
    "y=kmeans1.predict(norm_data)\n",
    "y"
   ]
  },
  {
   "cell_type": "code",
   "execution_count": 44,
   "id": "cd1d3e5d",
   "metadata": {},
   "outputs": [
    {
     "data": {
      "text/plain": [
       "0.5247945639497859"
      ]
     },
     "execution_count": 44,
     "metadata": {},
     "output_type": "execute_result"
    }
   ],
   "source": [
    "silhouette_score(norm_data,y)"
   ]
  },
  {
   "cell_type": "markdown",
   "id": "e2ad5138",
   "metadata": {},
   "source": [
    "so after normalization the silhouette score has gone up.Thus normalisation has improved the model."
   ]
  },
  {
   "cell_type": "markdown",
   "id": "170cba55",
   "metadata": {},
   "source": [
    "# Hierarchial Clustering"
   ]
  },
  {
   "cell_type": "code",
   "execution_count": 45,
   "id": "cf029135",
   "metadata": {},
   "outputs": [
    {
     "data": {
      "image/png": "[encoded data removed]",
      "text/plain": [
       "<Figure size 720x576 with 1 Axes>"
      ]
     },
     "metadata": {
      "needs_background": "light"
     },
     "output_type": "display_data"
    }
   ],
   "source": [
    "from scipy.cluster.hierarchy import dendrogram,linkage\n",
    "linked = linkage(norm_data,method = 'ward')\n",
    "plt.figure(figsize = (10,8))\n",
    "dendrogram(linked,orientation = 'top',show_leaf_counts = True)\n",
    "plt.hlines(0.3,0,5000,colors = 'red',linestyles = 'dashed')\n",
    "plt.show()"
   ]
  },
  {
   "cell_type": "code",
   "execution_count": 46,
   "id": "c5d64f56",
   "metadata": {},
   "outputs": [
    {
     "data": {
      "text/plain": [
       "array([0, 2, 2, 2, 0, 2, 2, 2, 2, 2, 2, 2, 2, 2, 2, 2, 2, 2, 2, 0, 0, 0,\n",
       "       2, 2, 0, 0, 2, 2, 0, 2, 2, 2, 2, 2, 2, 2, 0, 2, 2, 0, 0, 2, 2, 0,\n",
       "       0, 2, 2, 2, 2, 2, 2, 2, 2, 2, 2, 2, 0, 2, 2, 0, 0, 1, 0, 1, 1, 0,\n",
       "       0, 0, 0, 0, 0, 1, 0, 0, 0, 1, 1, 1, 0, 1, 1, 0, 0, 0, 0, 1, 0, 0,\n",
       "       0, 0, 0, 0, 0, 1, 1, 0, 1, 1, 0, 1, 0, 0, 1, 1, 0, 1, 0, 0, 1, 0,\n",
       "       0, 1, 0, 1, 1, 1, 0, 1, 1, 0, 0, 1, 1, 1, 1, 1, 1, 1, 1, 0, 0, 1,\n",
       "       0, 0, 0, 0, 0, 0, 0, 0, 0, 0, 0, 0, 0, 0, 0, 0, 0, 1, 1, 1, 1, 0,\n",
       "       0, 0, 0, 0, 0, 0, 0, 0, 0, 0, 0, 0, 0, 0, 0, 0, 0, 0, 0, 0, 0, 0,\n",
       "       0, 0], dtype=int64)"
      ]
     },
     "execution_count": 46,
     "metadata": {},
     "output_type": "execute_result"
    }
   ],
   "source": [
    "from sklearn.cluster import AgglomerativeClustering\n",
    "cluster = AgglomerativeClustering(n_clusters = 3,affinity = 'euclidean',linkage = 'ward')\n",
    "y = cluster.fit_predict(norm_data)\n",
    "y"
   ]
  },
  {
   "cell_type": "code",
   "execution_count": 47,
   "id": "2a5a7476",
   "metadata": {},
   "outputs": [],
   "source": [
    "score2 = silhouette_score(norm_data,y)"
   ]
  },
  {
   "cell_type": "code",
   "execution_count": 48,
   "id": "9e2bd850",
   "metadata": {},
   "outputs": [
    {
     "data": {
      "text/plain": [
       "0.5106020473107985"
      ]
     },
     "execution_count": 48,
     "metadata": {},
     "output_type": "execute_result"
    }
   ],
   "source": [
    "score2"
   ]
  },
  {
   "cell_type": "markdown",
   "id": "a1466be6",
   "metadata": {},
   "source": [
    "so  here also after normalization the silhouette score has gone up.Thus normalisation has improved the model."
   ]
  },
  {
   "cell_type": "code",
   "execution_count": null,
   "id": "1b127948",
   "metadata": {},
   "outputs": [],
   "source": []
  }
 ],
 "metadata": {
  "kernelspec": {
   "display_name": "Python 3 (ipykernel)",
   "language": "python",
   "name": "python3"
  },
  "language_info": {
   "codemirror_mode": {
    "name": "ipython",
    "version": 3
   },
   "file_extension": ".py",
   "mimetype": "text/x-python",
   "name": "python",
   "nbconvert_exporter": "python",
   "pygments_lexer": "ipython3",
   "version": "3.8.12"
  }
 },
 "nbformat": 4,
 "nbformat_minor": 5
}
